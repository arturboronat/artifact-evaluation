{
 "cells": [
  {
   "cell_type": "code",
   "execution_count": 1,
   "metadata": {
    "collapsed": true
   },
   "outputs": [],
   "source": [
    "%matplotlib inline\n",
    "\n",
    "import numpy as np\n",
    "import scipy.stats as stats\n",
    "import matplotlib.pyplot as plt\n",
    "import scipy.signal as sig\n",
    "\n",
    "from matplotlib import rcParams\n",
    "rcParams['font.family'] = 'serif'"
   ]
  },
  {
   "cell_type": "code",
   "execution_count": 2,
   "metadata": {
    "collapsed": true
   },
   "outputs": [],
   "source": [
    "#MATLAB colors\n",
    "colors = [[0, 0.4470, 0.7410],\n",
    "          [0.8500, 0.3250, 0.0980],\n",
    "          [0.9290, 0.6940, 0.1250],\n",
    "          [0.4940, 0.1840, 0.5560],\n",
    "          [0.4660, 0.6740, 0.1880],\n",
    "          [0.3010, 0.7450, 0.9330],\n",
    "          [0.6350, 0.0780, 0.1840]];\n",
    "\n",
    "def getColor(num, brightness=1):\n",
    "    col = colors[num]\n",
    "    return [col[0]*brightness, col[1]*brightness, col[2]*brightness]"
   ]
  },
  {
   "cell_type": "code",
   "execution_count": 21,
   "metadata": {},
   "outputs": [],
   "source": [
    "def logToMsgsValues(name):\n",
    "    file = open(name)\n",
    "    comments = 0\n",
    "    found_christmas = False\n",
    "    while True:\n",
    "        line = file.readline()\n",
    "        if not line:\n",
    "            break\n",
    "        elif line.startswith('#CLI: What are you waitin for? Christmas?'):\n",
    "            found_christmas = True\n",
    "        elif line.startswith('!'):\n",
    "            arr = line[1:].strip().split(',')\n",
    "            yield [(int(x) % 256) for x in arr[:-1]]\n",
    "    if not found_christmas:\n",
    "        print(name + ' may not be consistent!')\n",
    "\n",
    "def logToMsgsTypes(name):\n",
    "    file = open(name)\n",
    "    comments = 0\n",
    "    found_christmas = False\n",
    "    while True:\n",
    "        line = file.readline()\n",
    "        if not line:\n",
    "            break\n",
    "        elif line.startswith('#CLI: What are you waitin for? Christmas?'):\n",
    "            found_christmas = True\n",
    "        elif line.startswith(':'):\n",
    "            yield line[1:].strip().split(',')[:-1]\n",
    "    if not found_christmas:\n",
    "        print(name + ' may not be consistent!')\n",
    "\n",
    "def logToMsgsWeakness(name):\n",
    "    file = open(name)\n",
    "    comments = 0\n",
    "    found_christmas = False\n",
    "    while True:\n",
    "        line = file.readline()\n",
    "        if not line:\n",
    "            break\n",
    "        elif line.startswith('#CLI: What are you waitin for? Christmas?'):\n",
    "            found_christmas = True\n",
    "        elif line.startswith('?'):\n",
    "            arr = line[1:].strip().split(',')\n",
    "            yield [(int(x) % 256) for x in arr[:-1]]\n",
    "    if not found_christmas:\n",
    "        print(name + ' may not be consistent!')\n"
   ]
  },
  {
   "cell_type": "code",
   "execution_count": 22,
   "metadata": {
    "collapsed": true
   },
   "outputs": [],
   "source": [
    "def selectBytes(msgs, numMsgs):\n",
    "    return np.array([item for sublist in msgs[0:numMsgs] for item in sublist])"
   ]
  },
  {
   "cell_type": "code",
   "execution_count": 23,
   "metadata": {
    "collapsed": true
   },
   "outputs": [],
   "source": [
    "def loadBytes(base, N, generator=logToMsgsValues):\n",
    "    all_bts = []\n",
    "    max_len = 0\n",
    "    for i in range(1,N+1):\n",
    "        msgs = list(generator(base+str(i)+'.log'))\n",
    "        bts = selectBytes(msgs, len(msgs))\n",
    "        max_len = len(bts) if len(bts) > max_len else max_len\n",
    "        all_bts.append(np.array(bts, dtype=float))\n",
    "    for i in range(0,len(all_bts)):\n",
    "        all_bts[i] = np.pad(all_bts[i], (0, max_len-len(all_bts[i])), 'constant', constant_values=np.nan)\n",
    "    parts = np.vstack(all_bts)\n",
    "    return parts"
   ]
  },
  {
   "cell_type": "code",
   "execution_count": 24,
   "metadata": {
    "collapsed": true
   },
   "outputs": [],
   "source": [
    "def loadTypes(base, N):\n",
    "    all_msgs = []\n",
    "    for i in range(1,N+1):\n",
    "        msgs = list(logToMsgsTypes(base+str(i)+'.log'))\n",
    "        all_msgs.append([item for sublist in msgs for item in sublist]) # Flatten\n",
    "    # Make map of all types\n",
    "    all_types = []\n",
    "    max_len = 0\n",
    "    for msgs in all_msgs:\n",
    "        max_len = len(msgs) if len(msgs) > max_len else max_len\n",
    "        for msg in msgs:\n",
    "            if not (msg in all_types):\n",
    "                all_types.append(msg)\n",
    "    all_types.sort()\n",
    "    # Map all values to type index\n",
    "    all_arrs = []\n",
    "    for msgs in all_msgs:\n",
    "        arr = np.array([all_types.index(msg) for msg in msgs])\n",
    "        # Pad to maxlen\n",
    "        all_arrs.append(np.pad(arr, (0, max_len-len(arr)), 'constant', constant_values=-1))\n",
    "        \n",
    "    return all_types, np.vstack(all_arrs)"
   ]
  },
  {
   "cell_type": "code",
   "execution_count": 25,
   "metadata": {},
   "outputs": [
    {
     "name": "stdout",
     "output_type": "stream",
     "text": [
      "../../../target/thingml-bytes-logs/nodejs/dynamic/nodejs9.log is not consistent!\n"
     ]
    }
   ],
   "source": [
    "base_dir = '../../../target/thingml-bytes-logs/nodejs/'\n",
    "N = 10\n",
    "\n",
    "base_data = loadBytes(base_dir+'base/nodejs',N)\n",
    "static_data = loadBytes(base_dir+'static/nodejs',N)\n",
    "runtime_data = loadBytes(base_dir+'dynamic/nodejs',N)"
   ]
  },
  {
   "cell_type": "code",
   "execution_count": 10,
   "metadata": {
    "collapsed": true
   },
   "outputs": [],
   "source": [
    "### Accross instances\n",
    "def instDiffs(data):\n",
    "    N = 100\n",
    "    num_instances = data.shape[0]\n",
    "    num_bytes = data.shape[1]\n",
    "    \n",
    "    diffs = np.zeros((num_instances,))\n",
    "    \n",
    "    for i in range(0,num_instances):\n",
    "        own_bytes = data[i,:].copy()\n",
    "        own_bytes[np.isnan(own_bytes)] = 0\n",
    "        diff = 0\n",
    "        for j in range(0,num_instances):\n",
    "            if i != j:\n",
    "                other_bytes = data[j,:].copy()\n",
    "                other_bytes[np.isnan(other_bytes)] = 0\n",
    "                diff += np.sum(own_bytes != other_bytes)/N\n",
    "        diffs[i] = diff/(num_instances-1)\n",
    "                \n",
    "    return diffs\n"
   ]
  },
  {
   "cell_type": "code",
   "execution_count": 11,
   "metadata": {
    "collapsed": true
   },
   "outputs": [],
   "source": [
    "### Accross time\n",
    "def timeDiffs(data):\n",
    "    N = 100\n",
    "    num_instances = data.shape[0]\n",
    "    \n",
    "    diffs = np.zeros((N,N))\n",
    "    \n",
    "    for i in range(0, num_instances):\n",
    "        inst_bytes = data[i,:]\n",
    "        inst_bytes = inst_bytes[np.logical_not(np.isnan(inst_bytes))]\n",
    "        interaction_length = int(inst_bytes.size/N)\n",
    "        \n",
    "        for j in range(0,N):\n",
    "            for k in range(0,N):\n",
    "                first = inst_bytes[j*interaction_length:(j+1)*interaction_length]\n",
    "                second = inst_bytes[k*interaction_length:(k+1)*interaction_length]\n",
    "                diffs[j,k] += np.sum(first != second)\n",
    "                \n",
    "    return np.sum(diffs, axis=1)/((N-1)*num_instances)"
   ]
  },
  {
   "cell_type": "code",
   "execution_count": 12,
   "metadata": {
    "collapsed": true
   },
   "outputs": [],
   "source": [
    "def plotValueAndMean(data, color, ls='-', alpha=0.2):\n",
    "    plt.plot(data, color=[(1-alpha)*1+alpha*x for x in color], linewidth=2)\n",
    "    mean = np.mean(data)\n",
    "    line, = plt.plot([0, data.size-1], [mean, mean], color=color, linewidth=5, linestyle=ls)\n",
    "    return line"
   ]
  },
  {
   "cell_type": "code",
   "execution_count": 13,
   "metadata": {
    "collapsed": true
   },
   "outputs": [],
   "source": [
    "base_inst_diff = instDiffs(base_data)\n",
    "stat_inst_diff = instDiffs(static_data)\n",
    "runt_inst_diff = instDiffs(runtime_data)"
   ]
  },
  {
   "cell_type": "code",
   "execution_count": 14,
   "metadata": {},
   "outputs": [
    {
     "data": {
      "image/png": "[encoded data removed]",
      "text/plain": [
       "<matplotlib.figure.Figure at 0xfc71d1b668>"
      ]
     },
     "metadata": {},
     "output_type": "display_data"
    }
   ],
   "source": [
    "plt.figure(1, figsize=(7,5))\n",
    "\n",
    "baseL = plotValueAndMean(base_inst_diff, colors[0], '-', 0.4)\n",
    "statL = plotValueAndMean(stat_inst_diff, colors[1], '-', 0.4)\n",
    "runtL = plotValueAndMean(runt_inst_diff, colors[2], '--', 0.4)\n",
    "\n",
    "plt.legend((baseL, statL, runtL), ('Non-diversified','Static diversification','Dynamic diversification'), loc='upper right')\n",
    "\n",
    "plt.xlabel('Instance #')\n",
    "plt.ylabel('# of different bytes (per interaction)')\n",
    "plt.title('Diversity across instances')\n",
    "\n",
    "plt;\n",
    "plt.savefig('instances.eps', dpi=300)"
   ]
  },
  {
   "cell_type": "code",
   "execution_count": 15,
   "metadata": {
    "collapsed": true
   },
   "outputs": [],
   "source": [
    "base_time_diff = timeDiffs(base_data)\n",
    "stat_time_diff = timeDiffs(static_data)\n",
    "runt_time_diff = timeDiffs(runtime_data)"
   ]
  },
  {
   "cell_type": "code",
   "execution_count": 16,
   "metadata": {},
   "outputs": [
    {
     "data": {
      "image/png": "[encoded data removed]",
      "text/plain": [
       "<matplotlib.figure.Figure at 0xfc71ad50b8>"
      ]
     },
     "metadata": {},
     "output_type": "display_data"
    }
   ],
   "source": [
    "plt.figure(2, figsize=(7,5))\n",
    "\n",
    "baseL = plotValueAndMean(base_time_diff, colors[0], '-', 0.4)\n",
    "statL = plotValueAndMean(stat_time_diff, colors[1], '-', 0.4)\n",
    "runtL = plotValueAndMean(runt_time_diff, colors[2], '-', 0.4)\n",
    "\n",
    "plt.legend((baseL, statL, runtL), ('Non-diversified','Static diversification','Dynamic diversification'), loc='upper right')\n",
    "\n",
    "plt.xlabel('Interaction #')\n",
    "plt.ylabel('# of different bytes (per instance)')\n",
    "plt.title('Diversity across interactions')\n",
    "\n",
    "plt;\n",
    "plt.savefig('interactions.eps', dpi=300)"
   ]
  }
 ],
 "metadata": {
  "kernelspec": {
   "display_name": "Python 3",
   "language": "python",
   "name": "python3"
  },
  "language_info": {
   "codemirror_mode": {
    "name": "ipython",
    "version": 3
   },
   "file_extension": ".py",
   "mimetype": "text/x-python",
   "name": "python",
   "nbconvert_exporter": "python",
   "pygments_lexer": "ipython3",
   "version": "3.6.3"
  }
 },
 "nbformat": 4,
 "nbformat_minor": 2
}
