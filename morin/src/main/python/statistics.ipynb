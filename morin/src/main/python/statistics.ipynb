{
 "cells": [
  {
   "cell_type": "code",
   "execution_count": 1,
   "metadata": {
    "collapsed": true
   },
   "outputs": [],
   "source": [
    "import numpy as np\n",
    "from os import listdir, stat\n",
    "import re\n",
    "from IPython.display import HTML, display\n",
    "import matplotlib.pyplot as plt"
   ]
  },
  {
   "cell_type": "code",
   "execution_count": 10,
   "metadata": {
    "collapsed": true
   },
   "outputs": [],
   "source": [
    "re_app_sent = re.compile(r'^#APP: sent (\\d+)\\s*bts\\.$')\n",
    "re_cli_sent = re.compile(r'^#CLI: sent (\\d+)\\s*bts\\.$')\n",
    "re_cli_used = re.compile(r'^#CLI: used (\\d+)\\s*bts\\.$')\n",
    "re_cli_took = re.compile(r'^#CLI: took ((\\d+)\\s*ms\\.)?((\\d+)\\s*ns\\.)?$')\n",
    "re_log_num = re.compile(r'^\\D+(\\d+)\\.log$')\n",
    "re_bin_num = re.compile(r'^\\D+(\\d+)\\.bin$')\n",
    "\n",
    "# Returns an array with columns [time, network, memory]\n",
    "def readLogs(path):\n",
    "    logs = listdir(path)\n",
    "    data = np.zeros((len(logs), 3))\n",
    "    for log in logs:\n",
    "        filename = path+'/'+log\n",
    "        with open(filename,'r') as file:\n",
    "            log_num = int(re_log_num.match(log).group(1))-1\n",
    "            found_christmas = False\n",
    "            app_sent_n = -1\n",
    "            cli_sent_n = -1\n",
    "            cli_used_n = -1\n",
    "            cli_took_n = -1\n",
    "            while True:\n",
    "                line = file.readline()\n",
    "                if not line:\n",
    "                    break\n",
    "                elif line.startswith('#CLI: What are you waitin for? Christmas?'):\n",
    "                    found_christmas = True\n",
    "                else:\n",
    "                    app_sent = re_app_sent.match(line)\n",
    "                    cli_sent = re_cli_sent.match(line)\n",
    "                    cli_used = re_cli_used.match(line)\n",
    "                    cli_took = re_cli_took.match(line)\n",
    "                    if (app_sent):\n",
    "                        app_sent_n = int(app_sent.group(1))\n",
    "                    elif (cli_sent):\n",
    "                        cli_sent_n = int(cli_sent.group(1))\n",
    "                    elif (cli_used):\n",
    "                        cli_used_n = int(cli_used.group(1))\n",
    "                    elif (cli_took):\n",
    "                        if (cli_took.group(4)):\n",
    "                            cli_took_n = int(cli_took.group(4))\n",
    "                        else:\n",
    "                            cli_took_n = int(cli_took.group(2))*1000000\n",
    "                #print(line)\n",
    "            if not found_christmas:\n",
    "                print(filename + ' may not be consistent!')\n",
    "            elif app_sent_n < 0 or cli_sent_n < 0 or cli_used_n < 0 or cli_took_n < 0:\n",
    "                print(filename + ' may be missing some stats')\n",
    "            else:\n",
    "                data[log_num, 0] = cli_took_n\n",
    "                data[log_num, 1] = cli_sent_n+app_sent_n\n",
    "                data[log_num, 2] = cli_used_n\n",
    "    return data\n",
    "\n",
    "\n",
    "def readLanguage(path):\n",
    "    return {\n",
    "        'base': readLogs(path+'/base'),\n",
    "        'static': readLogs(path+'/static'),\n",
    "        'dynamic': readLogs(path+'/dynamic')\n",
    "    }\n",
    "\n",
    "def sizeBins(path):\n",
    "    bins = listdir(path)\n",
    "    data = np.zeros((len(bins), 1))\n",
    "    for binfile in bins:\n",
    "        filename = path+'/'+binfile\n",
    "        bin_num = 0\n",
    "        if (len(bins) > 1):\n",
    "            bin_num = int(re_bin_num.match(binfile).group(1))-1\n",
    "        data[bin_num] = stat(filename).st_size\n",
    "    return data\n",
    "\n",
    "def sizeLanguage(path):\n",
    "    sizes = {\n",
    "        'static': sizeBins(path+'/static'),\n",
    "        'dynamic': sizeBins(path+'/dynamic')\n",
    "    }\n",
    "    sizes['base'] = np.repeat(sizeBins(path+'/base'),sizes['static'].shape[0],axis=0);\n",
    "    return sizes\n",
    "\n",
    "def readLanguages(logdir, bindir, languages):\n",
    "    data = {}\n",
    "    for language in languages:\n",
    "        data[language] = {}\n",
    "        stats = readLanguage(logdir+'/'+language)\n",
    "        sizes = sizeLanguage(bindir+'/'+language)\n",
    "        for mode, array in stats.items():\n",
    "            data[language][mode] = np.concatenate((array, sizes[mode]), axis=1)\n",
    "    return data"
   ]
  },
  {
   "cell_type": "code",
   "execution_count": 11,
   "metadata": {
    "collapsed": true
   },
   "outputs": [],
   "source": [
    "# Calculate statistics on all data\n",
    "def calculateStats(data, scaling):\n",
    "    stats = {}\n",
    "    for language, modes in data.items():\n",
    "        stats[language] = {}\n",
    "        for mode, array in modes.items():\n",
    "            scaled = array/scaling\n",
    "            stats[language][mode] = {\n",
    "                'mean': np.mean(scaled, axis=0),\n",
    "                'std': np.std(scaled, axis=0)\n",
    "            }\n",
    "    return stats\n",
    "\n",
    "def calculateDiffStats(data, scaling):\n",
    "    stats = {}\n",
    "    for language, modes in data.items():\n",
    "        stats[language] = {}\n",
    "        base_mean_per_msg = np.mean(modes['base'], axis=0)/scaling\n",
    "        for mode, array in modes.items():\n",
    "            if mode != 'base':\n",
    "                mode_diff_per_msg = array/scaling - base_mean_per_msg\n",
    "                stats[language][mode] = {\n",
    "                    'mean': np.mean(mode_diff_per_msg, axis=0),\n",
    "                    'std': np.std(mode_diff_per_msg, axis=0)\n",
    "                }\n",
    "    return stats"
   ]
  },
  {
   "cell_type": "code",
   "execution_count": 12,
   "metadata": {
    "collapsed": true
   },
   "outputs": [],
   "source": [
    "def formatNumber(number, unit):\n",
    "    order = ''\n",
    "    if number > 1e9:\n",
    "        number = number/1e9\n",
    "        order = 'G'\n",
    "    elif number > 1e6:\n",
    "        number = number/1e6\n",
    "        order = 'M'\n",
    "    elif number > 1e3:\n",
    "        number = number/1e3\n",
    "        order = 'k'\n",
    "    elif number < 1e-6:\n",
    "        number = number*1e9\n",
    "        order = 'n'\n",
    "    elif number < 1e-3:\n",
    "        number = number*1e6\n",
    "        order = 'µ'\n",
    "    elif number < 1:\n",
    "        number = number*1e3\n",
    "        order = 'm'\n",
    "        \n",
    "    return ('%.2f'%number)+order+unit\n",
    "\n",
    "def tableData(data, i, scale, unit):\n",
    "    return '<td>'+formatNumber(data['mean'][i]*scale, unit)+' ± '+formatNumber(data['std'][i]*scale, unit)+'</td>'\n",
    "\n",
    "# Display a nice table\n",
    "def displayStatsTable(stats):\n",
    "    html = '<table>'\n",
    "    # Make headers\n",
    "    html += '<tr><th>Language:</th><th>Mode:</th><th>Time/msg:</th><th>Network/msg:</th><th>Memory:</th><th>Size:</th></tr>'\n",
    "    # Make rows\n",
    "    for language, modes in stats.items():\n",
    "        for mode, data in modes.items():\n",
    "            html += '<tr><td>'+language+'</td><td>'+mode+'</td>'\n",
    "            html += tableData(data, 0, 1e-9, 's')\n",
    "            html += tableData(data, 1, 1, 'b')\n",
    "            html += tableData(data, 2, 1, 'b')\n",
    "            html += tableData(data, 3, 1, 'b')\n",
    "            html += '</tr>'\n",
    "    # End table\n",
    "    html += '</table>'\n",
    "    display(HTML(html))"
   ]
  },
  {
   "cell_type": "code",
   "execution_count": 13,
   "metadata": {},
   "outputs": [
    {
     "name": "stdout",
     "output_type": "stream",
     "text": [
      "../../../target/thingml-logs/go/base/go10.log may not be consistent!\n",
      "../../../target/thingml-logs/go/base/go22.log may not be consistent!\n",
      "../../../target/thingml-logs/go/base/go25.log may not be consistent!\n",
      "../../../target/thingml-logs/go/base/go8.log may not be consistent!\n",
      "../../../target/thingml-logs/go/static/go18.log may not be consistent!\n",
      "../../../target/thingml-logs/go/static/go2.log may not be consistent!\n",
      "../../../target/thingml-logs/go/static/go20.log may not be consistent!\n",
      "../../../target/thingml-logs/go/dynamic/go1.log may not be consistent!\n",
      "../../../target/thingml-logs/go/dynamic/go15.log may not be consistent!\n",
      "../../../target/thingml-logs/go/dynamic/go18.log may not be consistent!\n",
      "../../../target/thingml-logs/go/dynamic/go21.log may not be consistent!\n",
      "../../../target/thingml-logs/go/dynamic/go22.log may not be consistent!\n",
      "../../../target/thingml-logs/go/dynamic/go5.log may not be consistent!\n",
      "../../../target/thingml-logs/go/dynamic/go8.log may not be consistent!\n"
     ]
    },
    {
     "data": {
      "text/html": [
       "<table><tr><th>Language:</th><th>Mode:</th><th>Time/msg:</th><th>Network/msg:</th><th>Memory:</th><th>Size:</th></tr><tr><td>nodejs</td><td>base</td><td>26.80µs ± 23.41µs</td><td>4.33b ± 0.00nb</td><td>4.39Mb ± 50.57kb</td><td>26.87kb ± 0.00nb</td></tr><tr><td>nodejs</td><td>static</td><td>83.73µs ± 26.30µs</td><td>7.28b ± 728.35mb</td><td>4.51Mb ± 4.80kb</td><td>34.65kb ± 22.81b</td></tr><tr><td>nodejs</td><td>dynamic</td><td>92.80µs ± 20.54µs</td><td>7.49b ± 929.13mb</td><td>4.68Mb ± 70.20kb</td><td>48.11kb ± 24.24b</td></tr><tr><td>go</td><td>base</td><td>1.74µs ± 1.92µs</td><td>3.64b ± 1.59b</td><td>101.59kb ± 44.34kb</td><td>1.95Mb ± 0.00nb</td></tr><tr><td>go</td><td>static</td><td>3.22µs ± 1.49µs</td><td>6.37b ± 2.46b</td><td>122.38kb ± 45.25kb</td><td>2.07Mb ± 3.91kb</td></tr><tr><td>go</td><td>dynamic</td><td>3.88µs ± 2.78µs</td><td>5.40b ± 3.48b</td><td>101.35kb ± 63.22kb</td><td>2.21Mb ± 5.76kb</td></tr></table>"
      ],
      "text/plain": [
       "<IPython.core.display.HTML object>"
      ]
     },
     "metadata": {},
     "output_type": "display_data"
    },
    {
     "data": {
      "text/html": [
       "<table><tr><th>Language:</th><th>Mode:</th><th>Time/msg:</th><th>Network/msg:</th><th>Memory:</th><th>Size:</th></tr><tr><td>nodejs</td><td>static</td><td>56.93µs ± 26.30µs</td><td>2.95b ± 728.35mb</td><td>124.59kb ± 4.80kb</td><td>7.79kb ± 22.81b</td></tr><tr><td>nodejs</td><td>dynamic</td><td>66.00µs ± 20.54µs</td><td>3.16b ± 929.13mb</td><td>289.23kb ± 70.20kb</td><td>21.25kb ± 24.24b</td></tr><tr><td>go</td><td>static</td><td>1.47µs ± 1.49µs</td><td>2.73b ± 2.46b</td><td>20.79kb ± 45.25kb</td><td>120.63kb ± 3.91kb</td></tr><tr><td>go</td><td>dynamic</td><td>2.14µs ± 2.78µs</td><td>1.76b ± 3.48b</td><td>-237760000000.00nb ± 63.22kb</td><td>257.29kb ± 5.76kb</td></tr></table>"
      ],
      "text/plain": [
       "<IPython.core.display.HTML object>"
      ]
     },
     "metadata": {},
     "output_type": "display_data"
    }
   ],
   "source": [
    "logdir = '../../../target/thingml-logs'\n",
    "bindir = '../../../target/thingml-bins'\n",
    "#languages = ['nodejs', 'go', 'arduino']\n",
    "languages = ['nodejs', 'go']\n",
    "\n",
    "data = readLanguages(logdir, bindir, languages)\n",
    "\n",
    "stats = calculateStats(data, np.array([300, 300, 1, 1]))\n",
    "diffstats = calculateDiffStats(data, np.array([300, 300, 1, 1]))\n",
    "\n",
    "displayStatsTable(stats)\n",
    "displayStatsTable(diffstats)"
   ]
  }
 ],
 "metadata": {
  "kernelspec": {
   "display_name": "Python 3",
   "language": "python",
   "name": "python3"
  },
  "language_info": {
   "codemirror_mode": {
    "name": "ipython",
    "version": 3
   },
   "file_extension": ".py",
   "mimetype": "text/x-python",
   "name": "python",
   "nbconvert_exporter": "python",
   "pygments_lexer": "ipython3",
   "version": "3.6.3"
  }
 },
 "nbformat": 4,
 "nbformat_minor": 2
}
